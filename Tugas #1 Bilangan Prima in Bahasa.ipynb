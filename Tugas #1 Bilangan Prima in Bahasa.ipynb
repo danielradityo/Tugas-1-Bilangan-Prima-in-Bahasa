{
 "cells": [
  {
   "cell_type": "markdown",
   "metadata": {},
   "source": [
    "***Home Excercise 1***"
   ]
  },
  {
   "cell_type": "markdown",
   "metadata": {},
   "source": [
    "***Nomor 1***"
   ]
  },
  {
   "cell_type": "code",
   "execution_count": 15,
   "metadata": {},
   "outputs": [
    {
     "name": "stdout",
     "output_type": "stream",
     "text": [
      "1 bukan merupakan bilangan prima\n",
      "2 merupakan bilangan prima\n",
      "3 merupakan bilangan prima\n",
      "4 bukan merupakan bilangan prima\n",
      "5 merupakan bilangan prima\n",
      "6 bukan merupakan bilangan prima\n",
      "7 merupakan bilangan prima\n",
      "8 bukan merupakan bilangan prima\n",
      "9 bukan merupakan bilangan prima\n",
      "10 bukan merupakan bilangan prima\n",
      "11 merupakan bilangan prima\n",
      "12 bukan merupakan bilangan prima\n",
      "13 merupakan bilangan prima\n",
      "14 bukan merupakan bilangan prima\n",
      "15 bukan merupakan bilangan prima\n",
      "16 bukan merupakan bilangan prima\n",
      "17 merupakan bilangan prima\n",
      "18 bukan merupakan bilangan prima\n",
      "19 merupakan bilangan prima\n",
      "20 bukan merupakan bilangan prima\n",
      "21 bukan merupakan bilangan prima\n",
      "22 bukan merupakan bilangan prima\n",
      "23 merupakan bilangan prima\n",
      "24 bukan merupakan bilangan prima\n",
      "25 bukan merupakan bilangan prima\n",
      "26 bukan merupakan bilangan prima\n",
      "27 bukan merupakan bilangan prima\n",
      "28 bukan merupakan bilangan prima\n",
      "29 merupakan bilangan prima\n",
      "30 bukan merupakan bilangan prima\n",
      "31 merupakan bilangan prima\n",
      "32 bukan merupakan bilangan prima\n",
      "33 bukan merupakan bilangan prima\n",
      "34 bukan merupakan bilangan prima\n",
      "35 bukan merupakan bilangan prima\n",
      "36 bukan merupakan bilangan prima\n",
      "37 merupakan bilangan prima\n",
      "38 bukan merupakan bilangan prima\n",
      "39 bukan merupakan bilangan prima\n",
      "40 bukan merupakan bilangan prima\n",
      "41 merupakan bilangan prima\n",
      "42 bukan merupakan bilangan prima\n",
      "43 merupakan bilangan prima\n",
      "44 bukan merupakan bilangan prima\n",
      "45 bukan merupakan bilangan prima\n",
      "46 bukan merupakan bilangan prima\n",
      "47 merupakan bilangan prima\n",
      "48 bukan merupakan bilangan prima\n",
      "49 bukan merupakan bilangan prima\n",
      "50 bukan merupakan bilangan prima\n",
      "51 bukan merupakan bilangan prima\n",
      "52 bukan merupakan bilangan prima\n",
      "53 merupakan bilangan prima\n",
      "54 bukan merupakan bilangan prima\n",
      "55 bukan merupakan bilangan prima\n",
      "56 bukan merupakan bilangan prima\n",
      "57 bukan merupakan bilangan prima\n",
      "58 bukan merupakan bilangan prima\n",
      "59 merupakan bilangan prima\n",
      "60 bukan merupakan bilangan prima\n",
      "61 merupakan bilangan prima\n",
      "62 bukan merupakan bilangan prima\n",
      "63 bukan merupakan bilangan prima\n",
      "64 bukan merupakan bilangan prima\n",
      "65 bukan merupakan bilangan prima\n",
      "66 bukan merupakan bilangan prima\n",
      "67 merupakan bilangan prima\n",
      "68 bukan merupakan bilangan prima\n",
      "69 bukan merupakan bilangan prima\n",
      "70 bukan merupakan bilangan prima\n",
      "71 merupakan bilangan prima\n",
      "72 bukan merupakan bilangan prima\n",
      "73 merupakan bilangan prima\n",
      "74 bukan merupakan bilangan prima\n",
      "75 bukan merupakan bilangan prima\n",
      "76 bukan merupakan bilangan prima\n",
      "77 bukan merupakan bilangan prima\n",
      "78 bukan merupakan bilangan prima\n",
      "79 merupakan bilangan prima\n",
      "80 bukan merupakan bilangan prima\n",
      "81 bukan merupakan bilangan prima\n",
      "82 bukan merupakan bilangan prima\n",
      "83 merupakan bilangan prima\n",
      "84 bukan merupakan bilangan prima\n",
      "85 bukan merupakan bilangan prima\n",
      "86 bukan merupakan bilangan prima\n",
      "87 bukan merupakan bilangan prima\n",
      "88 bukan merupakan bilangan prima\n",
      "89 merupakan bilangan prima\n",
      "90 bukan merupakan bilangan prima\n",
      "91 bukan merupakan bilangan prima\n",
      "92 bukan merupakan bilangan prima\n",
      "93 bukan merupakan bilangan prima\n",
      "94 bukan merupakan bilangan prima\n",
      "95 bukan merupakan bilangan prima\n",
      "96 bukan merupakan bilangan prima\n",
      "97 merupakan bilangan prima\n",
      "98 bukan merupakan bilangan prima\n",
      "99 bukan merupakan bilangan prima\n",
      "100 bukan merupakan bilangan prima\n"
     ]
    }
   ],
   "source": [
    "angka = 1\n",
    "\n",
    "while angka <= 100:\n",
    "    if angka > 1:\n",
    "        for i in range(2, angka):\n",
    "            if angka % i == 0:\n",
    "                print(angka, 'bukan merupakan bilangan prima')\n",
    "                break\n",
    "        else:\n",
    "            print(angka, 'merupakan bilangan prima')\n",
    "    else:\n",
    "        print(angka, 'bukan merupakan bilangan prima')\n",
    "    angka += 1"
   ]
  },
  {
   "cell_type": "markdown",
   "metadata": {},
   "source": [
    "***Nomor 2***"
   ]
  },
  {
   "cell_type": "code",
   "execution_count": 16,
   "metadata": {},
   "outputs": [
    {
     "name": "stdout",
     "output_type": "stream",
     "text": [
      "Masukkan Nilai yang akan diuji (0-100): 100\n",
      "100 bukan merupakan bilangan prima\n"
     ]
    }
   ],
   "source": [
    "angka = int(input('Masukkan Nilai yang akan diuji (0-100): '))\n",
    "\n",
    "if angka > 1:\n",
    "    for i in range(2, angka):\n",
    "        if angka % i == 0:\n",
    "            print(angka, 'bukan merupakan bilangan prima')\n",
    "            break\n",
    "    else:\n",
    "        print(angka, 'merupakan bilangan prima')\n",
    "else:\n",
    "    print(angka, 'bukan merupakan bilangan prima')"
   ]
  },
  {
   "cell_type": "code",
   "execution_count": 17,
   "metadata": {},
   "outputs": [
    {
     "name": "stdout",
     "output_type": "stream",
     "text": [
      "Masukkan Nilai yang akan diuji (0-100): 100\n",
      "100 bukan merupakan bilangan prima\n",
      "100 bisa dibagi dengan 50\n",
      "100 bisa dibagi dengan 25\n",
      "100 bisa dibagi dengan 20\n",
      "100 bisa dibagi dengan 10\n",
      "100 bisa dibagi dengan 5\n",
      "100 bisa dibagi dengan 4\n",
      "100 bisa dibagi dengan 2\n"
     ]
    }
   ],
   "source": [
    "angka = int(input('Masukkan Nilai yang akan diuji (0-100): '))\n",
    "\n",
    "if angka > 1:\n",
    "    for i in range(2, angka):\n",
    "        if angka % i == 0:\n",
    "            print(angka, 'bukan merupakan bilangan prima')\n",
    "            for i in range (2, angka):\n",
    "                if angka % i == 0:\n",
    "                    print(angka, 'bisa dibagi dengan', angka//i)\n",
    "            break\n",
    "    else:\n",
    "        print(angka, 'merupakan bilangan prima')\n",
    "else:\n",
    "    print(angka, 'bukan merupakan bilangan prima')"
   ]
  },
  {
   "cell_type": "markdown",
   "metadata": {},
   "source": [
    "***Cara Pembahasan***"
   ]
  },
  {
   "cell_type": "code",
   "execution_count": 1,
   "metadata": {},
   "outputs": [
    {
     "name": "stdout",
     "output_type": "stream",
     "text": [
      "1 bukan bilangan prima\n",
      "2 adalah bilangan prima\n",
      "3 adalah bilangan prima\n",
      "5 adalah bilangan prima\n",
      "7 adalah bilangan prima\n",
      "11 adalah bilangan prima\n",
      "13 adalah bilangan prima\n",
      "17 adalah bilangan prima\n",
      "19 adalah bilangan prima\n",
      "23 adalah bilangan prima\n",
      "29 adalah bilangan prima\n",
      "31 adalah bilangan prima\n",
      "37 adalah bilangan prima\n",
      "41 adalah bilangan prima\n",
      "43 adalah bilangan prima\n",
      "47 adalah bilangan prima\n",
      "53 adalah bilangan prima\n",
      "59 adalah bilangan prima\n",
      "61 adalah bilangan prima\n",
      "67 adalah bilangan prima\n",
      "71 adalah bilangan prima\n",
      "73 adalah bilangan prima\n",
      "79 adalah bilangan prima\n",
      "83 adalah bilangan prima\n",
      "89 adalah bilangan prima\n",
      "97 adalah bilangan prima\n"
     ]
    }
   ],
   "source": [
    "for angka in range(1, 100):\n",
    "    if angka > 1 :\n",
    "        for faktor in range(2, angka):\n",
    "            if (angka % faktor) == 0:\n",
    "                break\n",
    "        else:\n",
    "            print(angka, 'adalah bilangan prima')\n",
    "    else:\n",
    "        print(f'{angka} bukan bilangan prima')"
   ]
  },
  {
   "cell_type": "code",
   "execution_count": 7,
   "metadata": {},
   "outputs": [
    {
     "name": "stdout",
     "output_type": "stream",
     "text": [
      "Masukan angka: 4\n",
      "angka 2 merupakan bilangan prima\n",
      "angka 3 bukan merupakan bilangan prima\n",
      "karena: \n",
      "3 x 1 = 3\n"
     ]
    }
   ],
   "source": [
    "angka = int(input('Masukan angka: '))\n",
    "for angka in range(2, angka):\n",
    "    if angka % faktor == 0:\n",
    "        print(f'angka {angka} bukan merupakan bilangan prima\\nkarena: ')\n",
    "        print(f'{faktor} x {int(angka/faktor)} = {angka}')\n",
    "        break\n",
    "    else:\n",
    "        print(f'angka {angka} merupakan bilangan prima')"
   ]
  },
  {
   "cell_type": "code",
   "execution_count": null,
   "metadata": {},
   "outputs": [],
   "source": []
  }
 ],
 "metadata": {
  "kernelspec": {
   "display_name": "Python 3",
   "language": "python",
   "name": "python3"
  },
  "language_info": {
   "codemirror_mode": {
    "name": "ipython",
    "version": 3
   },
   "file_extension": ".py",
   "mimetype": "text/x-python",
   "name": "python",
   "nbconvert_exporter": "python",
   "pygments_lexer": "ipython3",
   "version": "3.8.5"
  }
 },
 "nbformat": 4,
 "nbformat_minor": 4
}
